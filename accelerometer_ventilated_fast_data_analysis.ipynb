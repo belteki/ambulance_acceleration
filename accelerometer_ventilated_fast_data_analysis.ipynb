{
 "cells": [
  {
   "cell_type": "markdown",
   "metadata": {},
   "source": [
    "![alt text](./Cerny_logo_1.jpg)"
   ]
  },
  {
   "cell_type": "markdown",
   "metadata": {},
   "source": [
    "# Analysis of Cerny ventilation recordings\n"
   ]
  },
  {
   "cell_type": "markdown",
   "metadata": {},
   "source": [
    "**Author: Dr Gusztav Belteki**"
   ]
  },
  {
   "cell_type": "markdown",
   "metadata": {},
   "source": [
    "### 1. Importing the necessary libraries and setting options"
   ]
  },
  {
   "cell_type": "markdown",
   "metadata": {},
   "source": [
    "This notebook preprocessed and analyses the ventilator parameter data obtained with **0.5Hz sampling rate** from the Fabian ventilators at the Cerny neonatal transport service. It exports desrciptive statistics into Excel files and the preprocessed data as pickle archive."
   ]
  },
  {
   "cell_type": "code",
   "execution_count": null,
   "metadata": {},
   "outputs": [],
   "source": [
    "import IPython\n",
    "import pandas as pd\n",
    "import numpy as np\n",
    "import scipy as sp\n",
    "import matplotlib\n",
    "import matplotlib.pyplot as plt\n",
    "\n",
    "import os\n",
    "import sys\n",
    "import re\n",
    "import pickle\n",
    "import datetime\n",
    "\n",
    "from scipy import stats\n",
    "from pandas import Series, DataFrame\n",
    "from datetime import datetime, timedelta\n",
    "\n",
    "%matplotlib inline\n",
    "\n",
    "matplotlib.style.use('classic')\n",
    "matplotlib.rcParams['figure.facecolor'] = 'w'\n",
    "\n",
    "pd.set_option('display.max_rows', 300)\n",
    "pd.set_option('display.max_columns', 300)"
   ]
  },
  {
   "cell_type": "code",
   "execution_count": null,
   "metadata": {},
   "outputs": [],
   "source": [
    "print(\"Python version: {}\".format(sys.version))\n",
    "print(\"pandas version: {}\".format(pd.__version__))\n",
    "print(\"matplotlib version: {}\".format(matplotlib.__version__))\n",
    "print(\"NumPy version: {}\".format(np.__version__))\n",
    "print(\"SciPy version: {}\".format(sp.__version__))\n",
    "print(\"IPython version: {}\".format(IPython.__version__))"
   ]
  },
  {
   "cell_type": "markdown",
   "metadata": {},
   "source": [
    "### 2. List and set the working directory and the directory to write out data"
   ]
  },
  {
   "cell_type": "code",
   "execution_count": null,
   "metadata": {},
   "outputs": [],
   "source": [
    "# Topic of the Notebook which will also be the name of the subfolder containing results\n",
    "TOPIC = 'accelerometer_ventilated'\n",
    "# Name of the external hard drive\n",
    "DRIVE = 'GUSZTI'\n",
    "# Folder containing subfolders with the annotation files\n",
    "DIR_READ = '/Volumes/%s/Fabian' % DRIVE\n",
    "\n",
    "CWD = '/Users/guszti/ventilation_fabian'\n",
    "\n",
    "DIR_WRITE = '%s/%s/%s' % (CWD, 'Analyses', TOPIC)\n",
    "DATA_DUMP = '/Volumes/%s/data_dump/%s' % (DRIVE, 'fabian')"
   ]
  },
  {
   "cell_type": "code",
   "execution_count": null,
   "metadata": {},
   "outputs": [],
   "source": [
    "os.chdir(CWD)\n",
    "os.getcwd()"
   ]
  },
  {
   "cell_type": "code",
   "execution_count": null,
   "metadata": {},
   "outputs": [],
   "source": [
    "DIR_READ, DIR_WRITE"
   ]
  },
  {
   "cell_type": "markdown",
   "metadata": {},
   "source": [
    "### 3. Import ventilator slow data and accelerometer data from pickle archives"
   ]
  },
  {
   "cell_type": "code",
   "execution_count": null,
   "metadata": {},
   "outputs": [],
   "source": [
    "with open('%s/%s.pickle' % (DATA_DUMP, 'combined_ventilated_1min'), 'rb') as handle:\n",
    "    combined_ventilated_1min = pickle.load(handle)\n",
    "    \n",
    "with open('%s/%s.pickle' % (DATA_DUMP, 'combined_ventilated_1min_all'), 'rb') as handle:\n",
    "    combined_ventilated_1min_all = pickle.load(handle)\n",
    "    \n",
    "with open('%s/%s.pickle' % (DATA_DUMP, 'low_1_vibr_frame'), 'rb') as handle:\n",
    "    low_1_vibr_frame = pickle.load(handle)\n",
    "\n",
    "with open('%s/%s.pickle' % (DATA_DUMP, 'high_1_vibr_frame'), 'rb') as handle:\n",
    "    high_1_vibr_frame = pickle.load(handle)\n",
    "    \n",
    "with open('%s/%s.pickle' % (DATA_DUMP, 'low_1_accel_frame'), 'rb') as handle:\n",
    "    low_1_accel_frame = pickle.load(handle)\n",
    "    \n",
    "with open('%s/%s.pickle' % (DATA_DUMP, 'high_1_accel_frame'), 'rb') as handle:\n",
    "    high_1_accel_frame = pickle.load(handle)"
   ]
  },
  {
   "cell_type": "code",
   "execution_count": null,
   "metadata": {},
   "outputs": [],
   "source": [
    "(len(combined_ventilated_1min), len(combined_ventilated_1min_all))"
   ]
  },
  {
   "cell_type": "code",
   "execution_count": null,
   "metadata": {},
   "outputs": [],
   "source": [
    "recs = sorted(set(key[1] for key in combined_ventilated_1min.keys()))\n",
    "#print(recs)"
   ]
  },
  {
   "cell_type": "code",
   "execution_count": null,
   "metadata": {
    "scrolled": false
   },
   "outputs": [],
   "source": [
    "(len(low_1_vibr_frame), len(high_1_vibr_frame), len(low_1_accel_frame), len(high_1_accel_frame))"
   ]
  },
  {
   "cell_type": "markdown",
   "metadata": {},
   "source": [
    "### 4. Import ventilator fast data"
   ]
  },
  {
   "cell_type": "code",
   "execution_count": null,
   "metadata": {
    "scrolled": false
   },
   "outputs": [],
   "source": [
    "%%time\n",
    "\n",
    "fast_data = {}\n",
    "\n",
    "for rec in recs:\n",
    "    if 150 < int(rec[-3:]) <= 300:\n",
    "        path = '%s/%s/%s' % (DIR_READ, 'fabian_ventilator_data_151_300', rec)\n",
    "    elif 300 < int(rec[-3:]) <= 450:\n",
    "        path = '%s/%s/%s' % (DIR_READ, 'fabian_ventilator_data_301_450', rec)\n",
    "    elif 450 < int(rec[-3:]) <= 600:\n",
    "        path = '%s/%s/%s' % (DIR_READ, 'fabian_ventilator_data_451_600', rec)\n",
    "    elif 600 < int(rec[-3:]) <= 750:\n",
    "        path = '%s/%s/%s' % (DIR_READ, 'fabian_ventilator_data_601_750', rec)\n",
    "    elif 750 < int(rec[-3:]) <= 999:\n",
    "        path = '%s/%s/%s' % (DIR_READ, 'fabian_ventilator_data_751_900', rec)\n",
    "    \n",
    "    print(rec)\n",
    "    # Only import fast data not the annotation files\n",
    "    files = [file for file in os.listdir(path) if 'waves' in file and 'predicted' not in file\n",
    "                                                                  and 'config' not in file]\n",
    "    fast_data[rec] = []\n",
    "    for file in files:\n",
    "        print('Importing %s' % file)\n",
    "        fast_data[rec].append(pd.read_csv('%s/%s' % (path, file), index_col = 0, parse_dates = [1],\n",
    "                                                             infer_datetime_format=True))   \n",
    "    fast_data[rec] = pd.concat(fast_data[rec])\n",
    "    fast_data[rec] = fast_data[rec].set_index('Time')"
   ]
  },
  {
   "cell_type": "markdown",
   "metadata": {},
   "source": [
    "### 5. Import clinical data"
   ]
  },
  {
   "cell_type": "code",
   "execution_count": null,
   "metadata": {},
   "outputs": [],
   "source": [
    "with open('%s/%s.pickle' % (DATA_DUMP, 'clin_df_1_1100'), 'rb') as handle:\n",
    "    clin_df = pickle.load(handle)"
   ]
  },
  {
   "cell_type": "code",
   "execution_count": null,
   "metadata": {},
   "outputs": [],
   "source": [
    "len(clin_df)"
   ]
  },
  {
   "cell_type": "code",
   "execution_count": null,
   "metadata": {},
   "outputs": [],
   "source": [
    "rec_list = DataFrame([rec for rec in recs], columns = ['Recording'])\n",
    "writer = pd.ExcelWriter('%s/%s' % (DIR_WRITE, 'accelerometer_vent_final_rec_list.xlsx'))\n",
    "rec_list.to_excel(writer, 'rec_list')\n",
    "writer.save()"
   ]
  },
  {
   "cell_type": "markdown",
   "metadata": {},
   "source": [
    "### 6. Generate composite P-V curves for the minute with the lowest and the highest vibration for each recording and export them as images"
   ]
  },
  {
   "cell_type": "code",
   "execution_count": null,
   "metadata": {},
   "outputs": [],
   "source": [
    "lowest_1_ind = {}; highest_1_ind = {}\n",
    "\n",
    "frmt = '%Y-%m-%d %H:%M:%S.%f'\n",
    "\n",
    "for recording in recs:\n",
    "    \n",
    "    low_start = low_1_vibr_frame.loc[recording]['datetime']\n",
    "    # 1-minute period\n",
    "    lowest_1_ind[recording] = (datetime.strftime(low_start, format = frmt),\n",
    "        datetime.strftime(low_start + pd.to_timedelta(59000000000), format = frmt))\n",
    "                                \n",
    "    high_start = high_1_vibr_frame.loc[recording]['datetime']\n",
    "    # 1-minute period\n",
    "    highest_1_ind[recording] = (datetime.strftime(high_start, format = frmt),\n",
    "            datetime.strftime(high_start + pd.to_timedelta(59000000000), format = frmt))\n"
   ]
  },
  {
   "cell_type": "code",
   "execution_count": null,
   "metadata": {
    "scrolled": false
   },
   "outputs": [],
   "source": [
    "%%time\n",
    "\n",
    "fast_data_highest_accel = {}; fast_data_lowest_accel = {}\n",
    "\n",
    "for recording in recs:\n",
    "    #print(recording)\n",
    "    \n",
    "    start, end = highest_1_ind[recording]\n",
    "    fast_data_highest_accel[recording] = fast_data[recording].loc[start : end]\n",
    "        \n",
    "    start, end = lowest_1_ind[recording]\n",
    "    fast_data_lowest_accel[recording] = fast_data[recording].loc[start : end]"
   ]
  },
  {
   "cell_type": "code",
   "execution_count": null,
   "metadata": {},
   "outputs": [],
   "source": [
    "if not os.path.isdir(os.path.join(DATA_DUMP, 'accelero_ventilated_graphs', 'accelero_fast_data_loops')):\n",
    "    os.makedirs(os.path.join(DATA_DUMP, 'accelero_ventilated_graphs', 'accelero_fast_data_loops'))"
   ]
  },
  {
   "cell_type": "markdown",
   "metadata": {},
   "source": [
    "##### Example PV loop"
   ]
  },
  {
   "cell_type": "code",
   "execution_count": null,
   "metadata": {},
   "outputs": [],
   "source": [
    "filetype = 'jpg'\n",
    "dpi = 300\n",
    "recording = ('AL000800')\n",
    "\n",
    "fig, axes = plt.subplots(nrows=1, ncols=2, figsize = [10,5])\n",
    "fig.subplots_adjust(left=0.1, bottom=0.1, right=0.9, top=0.9, hspace=0.3, wspace=0.1)\n",
    "\n",
    "axes[0].plot(fast_data_highest_accel[recording]['Pressure'], \n",
    "             fast_data_highest_accel[recording]['Volume'] / (clin_df.loc[recording]['Weight'] / 1000),color = 'blue')\n",
    "xlim_high = fast_data_highest_accel[recording]['Pressure'].mean() * 3\n",
    "ylim_high = 8\n",
    "    \n",
    "axes[0].set_xlim(0, xlim_high)\n",
    "axes[0].set_ylim(0, ylim_high)\n",
    "axes[0].set_title('acceleration = %s m/sec$^2$' %  round(high_1_vibr_frame.loc[recording]['length_median_high_pass'], 2), fontsize = 12)\n",
    "axes[0].grid(True)\n",
    "axes[0].set_xlabel('Pressue (cmH$_2$O)')\n",
    "axes[0].set_ylabel('Volume (mL/kg)')\n",
    "\n",
    "\n",
    "axes[1].plot(fast_data_lowest_accel[recording]['Pressure'], \n",
    "             fast_data_lowest_accel[recording]['Volume'] / (clin_df.loc[recording]['Weight'] / 1000),color = 'blue')\n",
    "xlim_high = fast_data_lowest_accel[recording]['Pressure'].mean() * 3\n",
    "ylim_high = 8\n",
    "    \n",
    "axes[1].set_xlim(0, xlim_high)\n",
    "axes[1].set_ylim(0, ylim_high)\n",
    "axes[1].set_title('acceleration = %s m/sec$^2$' %  round(low_1_vibr_frame.loc[recording]['length_median_high_pass'], 2), fontsize = 12)\n",
    "axes[1].grid(True)\n",
    "axes[1].set_xlabel('Pressue (cmH$_2$O)')\n",
    "        \n",
    "fig.savefig('%s/%s_PV.%s' % (os.path.join(DATA_DUMP, 'accelero_ventilated_graphs', 'accelero_fast_data_loops'), \n",
    "    recording, filetype), dpi = dpi, format = filetype, bbox_inches='tight', pad_inches=0.1)"
   ]
  },
  {
   "cell_type": "raw",
   "metadata": {},
   "source": [
    "filetype = 'jpg'\n",
    "dpi = 300\n",
    "\n",
    "for recording in recs:\n",
    "    try:\n",
    "        fig, axes = plt.subplots(nrows=1, ncols=2, figsize = [10,5])\n",
    "        fig.subplots_adjust(left=0.1, bottom=0.1, right=0.9, top=0.9, hspace=0.3, wspace=0.1)\n",
    "\n",
    "        axes[0].plot(fast_data_lowest_accel[recording]['Pressure'], \n",
    "             fast_data_lowest_accel[recording]['Volume'] / (clin_df.loc[recording]['Weight'] / 1000),color = 'blue')\n",
    "        xlim_high = fast_data_lowest_accel[recording]['Pressure'].mean() * 3\n",
    "        ylim_high = 8\n",
    "        axes[0].set_xlim(0, xlim_high)\n",
    "        axes[0].set_ylim(0, ylim_high)\n",
    "        axes[0].set_title('acceleration = %s m/sec$^2$' %  round(low_1_vibr_frame.loc[recording]['length_median'], 2), fontsize = 12)\n",
    "        axes[0].grid(True)\n",
    "        axes[0].set_xlabel('Pressue (cmH$_2$O)')\n",
    "        axes[0].set_ylabel('Volume (mL/kg)')    \n",
    "    \n",
    "        axes[1].plot(fast_data_highest_accel[recording]['Pressure'], \n",
    "             fast_data_highest_accel[recording]['Volume'] / (clin_df.loc[recording]['Weight'] / 1000),color = 'blue')\n",
    "        xlim_high = fast_data_highest_accel[recording]['Pressure'].mean() * 3\n",
    "        ylim_high = 8\n",
    "        axes[1].set_xlim(0, xlim_high)\n",
    "        axes[1].set_ylim(0, ylim_high)\n",
    "        axes[1].set_title('acceleration = %s m/sec$^2$' %  \n",
    "                      round(high_1_vibr_frame.loc[recording]['length_median'], 2), fontsize = 12)\n",
    "        axes[1].grid(True)\n",
    "        axes[1].set_xlabel('Pressue (cmH$_2$O)')\n",
    "      \n",
    "        fig.savefig('%s/%s_PV.%s' % (os.path.join(DATA_DUMP, 'accelero_ventilated_graphs', 'accelero_fast_data_loops'), \n",
    "            recording, filetype), dpi = dpi, format = filetype, bbox_inches='tight', pad_inches=0.1)\n",
    "    \n",
    "        plt.close()\n",
    "    \n",
    "    except:\n",
    "        print(f'Graph for {recording} cannot be created')\n",
    "        continue"
   ]
  },
  {
   "cell_type": "markdown",
   "metadata": {},
   "source": [
    "### 6. Study the disorder of loops\n",
    "\n",
    "It is expressed as the number of P-V data pairs during the minute"
   ]
  },
  {
   "cell_type": "code",
   "execution_count": null,
   "metadata": {},
   "outputs": [],
   "source": [
    "fast_data_highest_accel['AL000264']"
   ]
  },
  {
   "cell_type": "code",
   "execution_count": null,
   "metadata": {},
   "outputs": [],
   "source": [
    "pv_pairs_high = {}\n",
    "pv_pairs_high_count = {}\n",
    "\n",
    "for recording in fast_data_highest_accel:\n",
    "    if len(fast_data_highest_accel[recording]) == 0:\n",
    "        continue \n",
    "    else:\n",
    "        pv_pairs_high[recording] = set()\n",
    "        for item in fast_data_highest_accel[recording].itertuples():\n",
    "            pv_pairs_high[recording].add((item[1], item[3]))\n",
    "        pv_pairs_high_count[recording] = len(pv_pairs_high[recording])                                               "
   ]
  },
  {
   "cell_type": "code",
   "execution_count": null,
   "metadata": {},
   "outputs": [],
   "source": [
    "pv_pairs_low = {}\n",
    "pv_pairs_low_count = {}\n",
    "\n",
    "for recording in fast_data_lowest_accel:\n",
    "    if len(fast_data_lowest_accel[recording]) == 0:\n",
    "        continue \n",
    "    else:\n",
    "        pv_pairs_low[recording] = set()\n",
    "        for item in fast_data_lowest_accel[recording].itertuples():\n",
    "            pv_pairs_low[recording].add((item[1], item[3]))\n",
    "        pv_pairs_low_count[recording] = len(pv_pairs_low[recording])                                               "
   ]
  },
  {
   "cell_type": "code",
   "execution_count": null,
   "metadata": {},
   "outputs": [],
   "source": [
    "pv_pairs_high_count;"
   ]
  },
  {
   "cell_type": "code",
   "execution_count": null,
   "metadata": {},
   "outputs": [],
   "source": [
    "pv_pairs_count_frme = DataFrame([pv_pairs_low_count, pv_pairs_high_count]).T\n",
    "pv_pairs_count_frme.columns = ['low_accel', 'high_accel']\n",
    "pv_pairs_count_frme['diff'] = pv_pairs_count_frme['high_accel'] - pv_pairs_count_frme['low_accel'] "
   ]
  },
  {
   "cell_type": "code",
   "execution_count": null,
   "metadata": {
    "scrolled": false
   },
   "outputs": [],
   "source": [
    "pv_pairs_count_frme"
   ]
  },
  {
   "cell_type": "code",
   "execution_count": null,
   "metadata": {},
   "outputs": [],
   "source": [
    "len(pv_pairs_count_frme)"
   ]
  },
  {
   "cell_type": "code",
   "execution_count": null,
   "metadata": {},
   "outputs": [],
   "source": [
    "writer = pd.ExcelWriter('%s/%s' % (DIR_WRITE, 'PV_loop_complexity.xlsx'))\n",
    "pv_pairs_count_frme.to_excel(writer, 'PV_loop_complexity')\n",
    "writer.save()"
   ]
  },
  {
   "cell_type": "code",
   "execution_count": null,
   "metadata": {},
   "outputs": [],
   "source": [
    "stats.ttest_rel(pv_pairs_count_frme['low_accel'], pv_pairs_count_frme['high_accel'])"
   ]
  },
  {
   "cell_type": "code",
   "execution_count": null,
   "metadata": {},
   "outputs": [],
   "source": [
    "stats.wilcoxon(pv_pairs_count_frme['low_accel'], pv_pairs_count_frme['high_accel'])"
   ]
  },
  {
   "cell_type": "code",
   "execution_count": null,
   "metadata": {},
   "outputs": [],
   "source": [
    "plt.boxplot(pv_pairs_count_frme);"
   ]
  },
  {
   "cell_type": "code",
   "execution_count": null,
   "metadata": {},
   "outputs": [],
   "source": [
    "pv_pairs_count_frme.describe()"
   ]
  },
  {
   "cell_type": "markdown",
   "metadata": {},
   "source": [
    "## Figures for paper"
   ]
  },
  {
   "cell_type": "markdown",
   "metadata": {},
   "source": [
    "### Figure 3"
   ]
  },
  {
   "cell_type": "markdown",
   "metadata": {},
   "source": [
    "#### Figure 3AB"
   ]
  },
  {
   "cell_type": "code",
   "execution_count": null,
   "metadata": {},
   "outputs": [],
   "source": [
    "filetype = 'jpg'\n",
    "dpi = 300\n",
    "recording = ('AL000673')\n",
    "\n",
    "fig, axes = plt.subplots(nrows=1, ncols=2, figsize = [10,5])\n",
    "fig.subplots_adjust(left=0.1, bottom=0.1, right=0.9, top=0.9, hspace=0.3, wspace=0.1)\n",
    "\n",
    "axes[0].plot(fast_data_lowest_accel[recording]['Pressure'], \n",
    "             fast_data_lowest_accel[recording]['Volume'] / (clin_df.loc[recording]['Weight'] / 1000),color = 'blue')\n",
    "xlim_high = fast_data_lowest_accel[recording]['Pressure'].mean() * 3\n",
    "ylim_high = 8\n",
    "axes[0].set_xlim(0, xlim_high)\n",
    "axes[0].set_ylim(0, ylim_high)\n",
    "axes[0].set_title('acceleration = %s m/sec$^2$' %  round(low_1_vibr_frame.loc[recording]['length_median_high_pass'], 2), fontsize = 12)\n",
    "axes[0].grid(True)\n",
    "axes[0].set_xlabel('Pressure (cmH$_2$O)')\n",
    "axes[0].set_ylabel('Volume (mL/kg)')\n",
    "ct_low = pv_pairs_count_frme.loc[recording]['low_accel']\n",
    "axes[0].text(2, 7, f'P-V data pairs: {ct_low}', fontsize = 12)\n",
    "    \n",
    "axes[1].plot(fast_data_highest_accel[recording]['Pressure'], \n",
    "             fast_data_highest_accel[recording]['Volume'] / (clin_df.loc[recording]['Weight'] / 1000),color = 'blue')\n",
    "xlim_high = fast_data_highest_accel[recording]['Pressure'].mean() * 3\n",
    "ylim_high = 8\n",
    "axes[1].set_xlim(0, xlim_high)\n",
    "axes[1].set_ylim(0, ylim_high)\n",
    "axes[1].set_title('acceleration = %s m/sec$^2$' %  \n",
    "                round(high_1_vibr_frame.loc[recording]['length_median_high_pass'], 2), fontsize = 12)\n",
    "axes[1].grid(True)\n",
    "axes[1].set_xlabel('Pressure (cmH$_2$O)')\n",
    "ct_high = pv_pairs_count_frme.loc[recording]['high_accel']\n",
    "axes[1].text(2, 7, f'P-V data pairs: {ct_high}', fontsize = 12)\n",
    "        \n",
    "fig.savefig('%s/%s.%s' % (DIR_WRITE, 'Figure_3AB', 'jpg'),\n",
    "    dpi = dpi, format = filetype, bbox_inches='tight', pad_inches=0.1,);"
   ]
  },
  {
   "cell_type": "markdown",
   "metadata": {},
   "source": [
    "#### Figure 3CD"
   ]
  },
  {
   "cell_type": "code",
   "execution_count": null,
   "metadata": {},
   "outputs": [],
   "source": [
    "filetype = 'jpg'\n",
    "dpi = 300\n",
    "recording = ('AL000366')\n",
    "\n",
    "fig, axes = plt.subplots(nrows=1, ncols=2, figsize = [10,5])\n",
    "fig.subplots_adjust(left=0.1, bottom=0.1, right=0.9, top=0.9, hspace=0.3, wspace=0.1)\n",
    "\n",
    "axes[0].plot(fast_data_lowest_accel[recording]['Pressure'], \n",
    "             fast_data_lowest_accel[recording]['Volume'] / (clin_df.loc[recording]['Weight'] / 1000),color = 'blue')\n",
    "xlim_high = fast_data_lowest_accel[recording]['Pressure'].mean() * 4\n",
    "ylim_high = 8\n",
    "axes[0].set_xlim(0, xlim_high)\n",
    "axes[0].set_ylim(0, ylim_high)\n",
    "axes[0].set_title('acceleration = %s m/sec$^2$' %  round(low_1_vibr_frame.loc[recording]['length_median_high_pass'], 2), fontsize = 12)\n",
    "axes[0].grid(True)\n",
    "axes[0].set_xlabel('Pressure (cmH$_2$O)')\n",
    "axes[0].set_ylabel('Volume (mL/kg)')\n",
    "ct_low = pv_pairs_count_frme.loc[recording]['low_accel']\n",
    "axes[0].text(2, 7, f'P-V data pairs: {ct_low}', fontsize = 12)\n",
    "    \n",
    "axes[1].plot(fast_data_highest_accel[recording]['Pressure'], \n",
    "             fast_data_highest_accel[recording]['Volume'] / (clin_df.loc[recording]['Weight'] / 1000),color = 'blue')\n",
    "xlim_high = fast_data_highest_accel[recording]['Pressure'].mean() * 4\n",
    "ylim_high = 8\n",
    "axes[1].set_xlim(0, xlim_high)\n",
    "axes[1].set_ylim(0, ylim_high)\n",
    "axes[1].set_title('acceleration = %s m/sec$^2$' %  \n",
    "                round(high_1_vibr_frame.loc[recording]['length_median_high_pass'], 2), fontsize = 12)\n",
    "axes[1].grid(True)\n",
    "axes[1].set_xlabel('Pressure (cmH$_2$O)')\n",
    "ct_high = pv_pairs_count_frme.loc[recording]['high_accel']\n",
    "axes[1].text(2, 7, f'P-V data pairs: {ct_high}', fontsize = 12)\n",
    "        \n",
    "fig.savefig('%s/%s.%s' % (DIR_WRITE, 'Figure_3CD', 'jpg'),\n",
    "    dpi = dpi, format = filetype, bbox_inches='tight', pad_inches=0.1,);"
   ]
  },
  {
   "cell_type": "markdown",
   "metadata": {},
   "source": [
    "#### Figure 3 combined"
   ]
  },
  {
   "cell_type": "code",
   "execution_count": null,
   "metadata": {},
   "outputs": [],
   "source": [
    "filetype = 'pdf'\n",
    "dpi = 300\n",
    "\n",
    "fig, axes = plt.subplots(nrows=2, ncols=2, figsize = [8,8])\n",
    "fig.subplots_adjust(left=0.1, bottom=0.1, right=0.9, top=0.9, hspace=0.2, wspace=0.2)\n",
    "\n",
    "recording = ('AL000673')\n",
    "\n",
    "# Figure 3A\n",
    "\n",
    "axes[0,0].plot(fast_data_lowest_accel[recording]['Pressure'], \n",
    "fast_data_lowest_accel[recording]['Volume'] / (clin_df.loc[recording]['Weight'] / 1000), color = 'gray')\n",
    "xlim_high = fast_data_lowest_accel[recording]['Pressure'].mean() * 3\n",
    "axes[0,0].set_xlim(0, xlim_high)\n",
    "axes[0,0].set_ylim(0, 9)\n",
    "axes[0,0].set_title('vibration = %s m/sec$^2$' %  \n",
    "    round(low_1_vibr_frame.loc[recording]['length_median_high_pass'], 2), fontsize = 12)\n",
    "#axes[0,0].grid(True)\n",
    "axes[0,0].set_xlabel('')\n",
    "axes[0,0].set_ylabel('Volume (mL/kg)')\n",
    "ct_low = pv_pairs_count_frme.loc[recording]['low_accel']\n",
    "axes[0,0].text(2, 8, f'P-V data pairs: {ct_low}', fontsize = 12)\n",
    "\n",
    "# Figure 3B\n",
    "    \n",
    "axes[0,1].plot(fast_data_highest_accel[recording]['Pressure'], \n",
    "    fast_data_highest_accel[recording]['Volume'] / (clin_df.loc[recording]['Weight'] / 1000),color = 'gray')\n",
    "xlim_high = fast_data_highest_accel[recording]['Pressure'].mean() * 3\n",
    "ylim_high = 9\n",
    "axes[0,1].set_xlim(0, xlim_high)\n",
    "axes[0,1].set_ylim(0, ylim_high)\n",
    "axes[0,1].set_title('vibrarion = %s m/sec$^2$' %  \n",
    "    round(high_1_vibr_frame.loc[recording]['length_median_high_pass'], 2), fontsize = 12)\n",
    "#axes[0,1].grid(True)\n",
    "axes[0,1].set_xlabel('')\n",
    "ct_high = pv_pairs_count_frme.loc[recording]['high_accel']\n",
    "axes[0,1].text(2, 8, f'P-V data pairs: {ct_high}', fontsize = 12)\n",
    "\n",
    "\n",
    "recording = ('AL000366')\n",
    "\n",
    "# Figure 3C\n",
    "\n",
    "axes[1,0].plot(fast_data_lowest_accel[recording]['Pressure'], \n",
    "             fast_data_lowest_accel[recording]['Volume'] / (clin_df.loc[recording]['Weight'] / 1000), color = 'gray')\n",
    "xlim_high = fast_data_lowest_accel[recording]['Pressure'].mean() * 4\n",
    "ylim_high = 9\n",
    "axes[1,0].set_xlim(0, xlim_high)\n",
    "axes[1,0].set_ylim(0, ylim_high)\n",
    "axes[1,0].set_title('vibration = %s m/sec$^2$' %  round(low_1_vibr_frame.loc[recording]['length_median_high_pass'], 2), fontsize = 12)\n",
    "#axes[1,0].grid(True)\n",
    "axes[1,0].set_xlabel('Pressure (cmH$_2$O)')\n",
    "axes[1,0].set_ylabel('Volume (mL/kg)')\n",
    "ct_low = pv_pairs_count_frme.loc[recording]['low_accel']\n",
    "axes[1,0].text(2, 8, f'P-V data pairs: {ct_low}', fontsize = 12)\n",
    "\n",
    "\n",
    "# Figure 3D\n",
    "\n",
    "axes[1,1].plot(fast_data_highest_accel[recording]['Pressure'], \n",
    "             fast_data_highest_accel[recording]['Volume'] / (clin_df.loc[recording]['Weight'] / 1000),color = 'gray')\n",
    "xlim_high = fast_data_highest_accel[recording]['Pressure'].mean() * 4\n",
    "ylim_high = 9\n",
    "axes[1,1].set_xlim(0, xlim_high)\n",
    "axes[1,1].set_ylim(0, ylim_high)\n",
    "axes[1,1].set_title('vibration = %s m/sec$^2$' %  \n",
    "                round(high_1_vibr_frame.loc[recording]['length_median_high_pass'], 2), fontsize = 12)\n",
    "#axes[1,1].grid(True)\n",
    "axes[1,1].set_xlabel('Pressure (cmH$_2$O)')\n",
    "ct_high = pv_pairs_count_frme.loc[recording]['high_accel']\n",
    "axes[1,1].text(2, 8, f'P-V data pairs: {ct_high}', fontsize = 12)\n",
    "\n",
    "fig.text(0.03, 0.92, 'A', fontsize = 16); fig.text(0.49, 0.92, 'B', fontsize = 16)\n",
    "fig.text(0.03, 0.47, 'C', fontsize = 16); fig.text(0.49, 0.47, 'D', fontsize = 16)\n",
    "        \n",
    "fig.savefig('%s/%s.%s' % (DIR_WRITE, 'Figure_3', filetype),\n",
    "    dpi = dpi, format = filetype, bbox_inches='tight', pad_inches=0.1,);"
   ]
  },
  {
   "cell_type": "code",
   "execution_count": null,
   "metadata": {},
   "outputs": [],
   "source": []
  }
 ],
 "metadata": {
  "anaconda-cloud": {},
  "kernelspec": {
   "display_name": "Python 3",
   "language": "python",
   "name": "python3"
  },
  "language_info": {
   "codemirror_mode": {
    "name": "ipython",
    "version": 3
   },
   "file_extension": ".py",
   "mimetype": "text/x-python",
   "name": "python",
   "nbconvert_exporter": "python",
   "pygments_lexer": "ipython3",
   "version": "3.7.9"
  }
 },
 "nbformat": 4,
 "nbformat_minor": 2
}

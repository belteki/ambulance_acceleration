{
 "cells": [
  {
   "cell_type": "markdown",
   "metadata": {
    "collapsed": true
   },
   "source": [
    "![alt text](./Cerny_logo_1.jpg)"
   ]
  },
  {
   "cell_type": "markdown",
   "metadata": {},
   "source": [
    "# The effect of ambulance acceleration on mechanical ventilation during neonatal transport"
   ]
  },
  {
   "cell_type": "markdown",
   "metadata": {
    "collapsed": true
   },
   "source": [
    "#### Author: Dr Gusztav Belteki"
   ]
  },
  {
   "cell_type": "markdown",
   "metadata": {},
   "source": [
    "### 1. Import the required libraries and set options"
   ]
  },
  {
   "cell_type": "code",
   "execution_count": null,
   "metadata": {},
   "outputs": [],
   "source": [
    "import IPython\n",
    "import pandas as pd\n",
    "import numpy as np\n",
    "import scipy as sp\n",
    "import matplotlib\n",
    "import matplotlib.pyplot as plt\n",
    "\n",
    "import os\n",
    "import sys\n",
    "import pickle\n",
    "\n",
    "from scipy import stats\n",
    "from pandas import Series, DataFrame\n",
    "from datetime import datetime, timedelta\n",
    "from matplotlib import dates\n",
    "\n",
    "%matplotlib inline\n",
    "matplotlib.style.use('classic')\n",
    "matplotlib.rcParams['figure.facecolor'] = 'w'\n",
    "\n",
    "pd.set_option('display.max_rows', 250)\n",
    "pd.set_option('display.max_columns', 100)"
   ]
  },
  {
   "cell_type": "code",
   "execution_count": null,
   "metadata": {},
   "outputs": [],
   "source": [
    "print(\"Python version: {}\".format(sys.version))\n",
    "print(\"pandas version: {}\".format(pd.__version__))\n",
    "print(\"matplotlib version: {}\".format(matplotlib.__version__))\n",
    "print(\"NumPy version: {}\".format(np.__version__))\n",
    "print(\"SciPy version: {}\".format(sp.__version__))\n",
    "print(\"IPython version: {}\".format(IPython.__version__))"
   ]
  },
  {
   "cell_type": "markdown",
   "metadata": {},
   "source": [
    "### 2. List and set the working directory and the directory to write out data"
   ]
  },
  {
   "cell_type": "code",
   "execution_count": null,
   "metadata": {},
   "outputs": [],
   "source": [
    "# Topic of the Notebook which will also be the name of the subfolder containing results\n",
    "TOPIC = 'accelerometer_ventilated'\n",
    "\n",
    "# Name of the external hard drive\n",
    "DRIVE = 'GUSZTI'\n",
    "\n",
    "# Directory containing clinical and blood gas data\n",
    "CWD = os.path.join('/Users', 'guszti', 'ventilation_fabian')\n",
    "\n",
    "DIR_WRITE = os.path.join(CWD, 'Analyses', TOPIC)\n",
    "\n",
    "DATA_DUMP = os.path.join('/Volumes', DRIVE, 'data_dump', 'fabian')\n",
    "\n",
    "# Images will be exported in this subfolder\n",
    "DIR_WRITE_2 = os.path.join(DATA_DUMP, 'accelero_ventilated_graphs')\n",
    "if not os.path.isdir(DIR_WRITE_2):\n",
    "    os.makedirs(DIR_WRITE_2)"
   ]
  },
  {
   "cell_type": "code",
   "execution_count": null,
   "metadata": {},
   "outputs": [],
   "source": [
    "DIR_WRITE, DIR_WRITE_2, DATA_DUMP"
   ]
  },
  {
   "cell_type": "markdown",
   "metadata": {},
   "source": [
    "### 3. Import ventilator and accelerometer data from pickle archives"
   ]
  },
  {
   "cell_type": "code",
   "execution_count": null,
   "metadata": {},
   "outputs": [],
   "source": [
    "%%time\n",
    "with open('%s/%s.pickle' % (DATA_DUMP, 'data_pars_combined'), 'rb') as handle:\n",
    "    data_pars_combined = pickle.load(handle) "
   ]
  },
  {
   "cell_type": "code",
   "execution_count": null,
   "metadata": {},
   "outputs": [],
   "source": [
    "%%time\n",
    "with open('%s/%s.pickle' % (DATA_DUMP, 'ventilator_mode'), 'rb') as handle:\n",
    "    ventilator_mode = pickle.load(handle)"
   ]
  },
  {
   "cell_type": "code",
   "execution_count": null,
   "metadata": {},
   "outputs": [],
   "source": [
    "%%time\n",
    "  \n",
    "with open('%s/%s.pickle' % (DATA_DUMP, 'accelero_ventilated_2'), 'rb') as handle:\n",
    "    accelero_ventilated = pickle.load(handle)\n",
    "\n",
    "with open('%s/%s.pickle' % (DATA_DUMP, 'accelero_ventilated_low_pass'), 'rb') as handle:\n",
    "    accelero_ventilated_low_pass = pickle.load(handle)\n",
    "    \n",
    "with open('%s/%s.pickle' % (DATA_DUMP, 'accelero_ventilated_high_pass'), 'rb') as handle:\n",
    "    accelero_ventilated_high_pass = pickle.load(handle)"
   ]
  },
  {
   "cell_type": "markdown",
   "metadata": {},
   "source": [
    "### 4. Generate and export time series plots for acceleration and ventilation data"
   ]
  },
  {
   "cell_type": "markdown",
   "metadata": {},
   "source": [
    "### A. 3-dimensional accelerations sampled with 100 Hz"
   ]
  },
  {
   "cell_type": "code",
   "execution_count": null,
   "metadata": {},
   "outputs": [],
   "source": [
    "# Images will be exported in this subfolder\n",
    "if not os.path.isdir(os.path.join(DIR_WRITE_2, 'time_xyz')):\n",
    "    os.makedirs(os.path.join(DIR_WRITE_2, 'time_xyz'))"
   ]
  },
  {
   "cell_type": "code",
   "execution_count": null,
   "metadata": {},
   "outputs": [],
   "source": [
    "def accel_time_plot(rec, dpi = 200, filetype = 'jpg', show = True, save = False):\n",
    "    \n",
    "    color = ['red', 'blue', 'green']\n",
    "    fig, ax = plt.subplots(3,1, figsize = (12, 9))\n",
    "    fig.subplots_adjust(left=None, bottom=0, right=None, top=None, wspace=0, hspace=None)\n",
    "    \n",
    "    for axis, ax, col in zip(['X', 'Y', 'Z'], ax, color):\n",
    "        accelero_ventilated[rec][axis].plot(ax = ax, color = col, \n",
    "            sharex=True, use_index=True, fontsize= 12, x_compat = True)\n",
    "        ax.grid(True)\n",
    "        ax.set_ylabel('m/sec$^2$', size = 12)\n",
    "        ax.set_ylim(-7,7)\n",
    "        ax.set_xlabel('Time', size  = 12)\n",
    "        ax.tick_params(which = 'both', labelsize=12)\n",
    "        ax.legend(loc = 1)\n",
    "    \n",
    "        majorFmt = dates.DateFormatter('%H:%M')  \n",
    "        ax.xaxis.set_major_formatter(majorFmt)\n",
    "        plt.setp(ax.xaxis.get_majorticklabels(), rotation=0, fontsize = 12, horizontalalignment = 'center')\n",
    "    \n",
    "    if save:\n",
    "        fig.savefig('%s/%s_%s_%s.%s' % (DIR_WRITE, 'time_XYZ', rec[0][9:-4], \n",
    "            rec[1], filetype), dpi = dpi, format = filetype, bbox_inches='tight', pad_inches=0.1);\n",
    "\n",
    "    if not show:\n",
    "        plt.close()"
   ]
  },
  {
   "cell_type": "code",
   "execution_count": null,
   "metadata": {
    "scrolled": false
   },
   "outputs": [],
   "source": [
    "accel_time_plot(('default__393.txt', 'AL000628'), save = True)"
   ]
  },
  {
   "cell_type": "code",
   "execution_count": null,
   "metadata": {},
   "outputs": [],
   "source": [
    "def accel_time_plot_all(recs, dpi = 200, filetype = 'jpg', show = False, save = True):\n",
    "    \n",
    "    color = ['red', 'blue', 'green']\n",
    "    i = 0\n",
    "    \n",
    "    for rec in recs:\n",
    "    \n",
    "        fig, ax = plt.subplots(3,1, figsize = (12, 9))\n",
    "        fig.subplots_adjust(left=None, bottom=0, right=None, top=None, wspace=0, hspace=None)\n",
    "        for axis, ax, col in zip(['X', 'Y', 'Z'], ax, color):\n",
    "            accelero_ventilated[rec][[axis]].plot(ax = ax, color = col, sharex=True, \n",
    "                                use_index=True, fontsize= 12, x_compat = True)\n",
    "            ax.grid(True)\n",
    "            ax.set_ylabel('m/sec$^2$', size = 12)\n",
    "            ax.set_ylim(-7,7)\n",
    "            ax.set_xlabel('Time', size  = 12)\n",
    "            ax.tick_params(which = 'both', labelsize=12)\n",
    "            ax.legend(loc = 1)\n",
    "            \n",
    "            majorFmt = dates.DateFormatter('%H:%M')  \n",
    "            ax.xaxis.set_major_formatter(majorFmt)\n",
    "            plt.setp(ax.xaxis.get_majorticklabels(), rotation=0, fontsize = 12, horizontalalignment = 'center')\n",
    "            \n",
    "        i+=1\n",
    "        if i != 0 and i % 10 == 0:\n",
    "            print(datetime.now(), 'Created %s graphs' %i)\n",
    "\n",
    "        if save:\n",
    "            fig.savefig('%s/%s/%s_%s_%s.%s' % (DIR_WRITE_2, 'time_XYZ', 'time_XYZ', rec[0][9:-4],\n",
    "                rec[1], filetype), dpi = dpi, format = filetype,  bbox_inches='tight', pad_inches=0.1);\n",
    "\n",
    "        if not show:\n",
    "            plt.close()"
   ]
  },
  {
   "cell_type": "raw",
   "metadata": {},
   "source": [
    "%%time\n",
    "accel_time_plot_all(sorted(accelero_ventilated.keys(), key = lambda x: int(x[0][9:-4])),)"
   ]
  },
  {
   "cell_type": "markdown",
   "metadata": {},
   "source": [
    "### B. 3-dimensional accelerations sampled with 100 Hz after passing through low pass filter"
   ]
  },
  {
   "cell_type": "code",
   "execution_count": null,
   "metadata": {},
   "outputs": [],
   "source": [
    "def accel_time_plot_low_pass(rec, dpi = 200, filetype = 'jpg', show = True, save = False):\n",
    "    \n",
    "    color = ['red', 'blue', 'green']\n",
    "    fig, ax = plt.subplots(3,1, figsize = (12, 9))\n",
    "    fig.subplots_adjust(left=None, bottom=0, right=None, top=None, wspace=0, hspace=None)\n",
    "    \n",
    "    for axis, ax, col in zip(['X', 'Y', 'Z'], ax, color):\n",
    "        accelero_ventilated_low_pass[rec][axis].plot(ax = ax, color = col, \n",
    "            sharex=True, use_index=True, fontsize= 12, x_compat = True)\n",
    "        ax.grid(True)\n",
    "        ax.set_ylabel('m/sec$^2$', size = 12)\n",
    "        ax.set_ylim(-7,7)\n",
    "        ax.set_xlabel('Time', size  = 12)\n",
    "        ax.tick_params(which = 'both', labelsize=12)\n",
    "        ax.legend(loc = 1)\n",
    "    \n",
    "        majorFmt = dates.DateFormatter('%H:%M')  \n",
    "        ax.xaxis.set_major_formatter(majorFmt)\n",
    "        plt.setp(ax.xaxis.get_majorticklabels(), rotation=0, fontsize = 12, horizontalalignment = 'center')\n",
    "    \n",
    "    if save:\n",
    "        fig.savefig('%s/%s_%s_%s.%s' % (DIR_WRITE, 'time_XYZ_low_pass', rec[0][9:-4], \n",
    "            rec[1], filetype), dpi = dpi, format = filetype, bbox_inches='tight', pad_inches=0.1);\n",
    "\n",
    "    if not show:\n",
    "        plt.close()"
   ]
  },
  {
   "cell_type": "code",
   "execution_count": null,
   "metadata": {},
   "outputs": [],
   "source": [
    "accel_time_plot_low_pass(('default__393.txt', 'AL000628'), save = True)"
   ]
  },
  {
   "cell_type": "code",
   "execution_count": null,
   "metadata": {},
   "outputs": [],
   "source": [
    "def accel_time_plot_low_pass_all(recs, dpi = 200, filetype = 'jpg', show = False, save = True):\n",
    "    \n",
    "    color = ['red', 'blue', 'green']\n",
    "    i = 0\n",
    "    \n",
    "    for rec in recs:\n",
    "    \n",
    "        fig, ax = plt.subplots(3,1, figsize = (12, 9))\n",
    "        fig.subplots_adjust(left=None, bottom=0, right=None, top=None, wspace=0, hspace=None)\n",
    "        for axis, ax, col in zip(['X', 'Y', 'Z'], ax, color):\n",
    "            accelero_ventilated_low_pass[rec][[axis]].plot(ax = ax, color = col, sharex=True, \n",
    "                use_index=True, fontsize= 12, x_compat = True)\n",
    "            ax.grid(True)\n",
    "            ax.set_ylabel('m/sec$^2$', size = 12)\n",
    "            ax.set_ylim(-7,7)\n",
    "            ax.set_xlabel('Time', size  = 12)\n",
    "            ax.tick_params(which = 'both', labelsize=12)\n",
    "            ax.legend(loc = 1)\n",
    "            \n",
    "            majorFmt = dates.DateFormatter('%H:%M')  \n",
    "            ax.xaxis.set_major_formatter(majorFmt)\n",
    "            plt.setp(ax.xaxis.get_majorticklabels(), rotation=0, fontsize = 12, horizontalalignment = 'center')\n",
    "            \n",
    "        i+=1\n",
    "        if i != 0 and i % 10 == 0:\n",
    "            print(datetime.now(), 'Created %s graphs' %i)\n",
    "\n",
    "        if save:\n",
    "            fig.savefig('%s/%s/%s_%s_%s.%s' % (DIR_WRITE_2, 'time_XYZ', 'time_XYZ_low_pass', rec[0][9:-4],\n",
    "                rec[1], filetype), dpi = dpi, format = filetype,  bbox_inches='tight', pad_inches=0.1);\n",
    "\n",
    "        if not show:\n",
    "            plt.close()"
   ]
  },
  {
   "cell_type": "raw",
   "metadata": {},
   "source": [
    "%%time\n",
    "accel_time_plot_low_pass_all(sorted(accelero_ventilated.keys(), key = lambda x: int(x[0][9:-4])),)"
   ]
  },
  {
   "cell_type": "markdown",
   "metadata": {},
   "source": [
    "### C. 3-dimensional accelerations sampled with 100 Hz after passing through high pass filter"
   ]
  },
  {
   "cell_type": "code",
   "execution_count": null,
   "metadata": {},
   "outputs": [],
   "source": [
    "def accel_time_plot_high_pass(rec, dpi = 200, filetype = 'jpg', show = True, save = False):\n",
    "    \n",
    "    color = ['red', 'blue', 'green']\n",
    "    fig, ax = plt.subplots(3,1, figsize = (12, 9))\n",
    "    fig.subplots_adjust(left=None, bottom=0, right=None, top=None, wspace=0, hspace=None)\n",
    "    \n",
    "    for axis, ax, col in zip(['X', 'Y', 'Z'], ax, color):\n",
    "        accelero_ventilated_high_pass[rec][axis].plot(ax = ax, color = col, \n",
    "            sharex=True, use_index=True, fontsize= 12, x_compat = True)\n",
    "        ax.grid(True)\n",
    "        ax.set_ylabel('m/sec$^2$', size = 12)\n",
    "        ax.set_ylim(-7,7)\n",
    "        ax.set_xlabel('Time', size  = 12)\n",
    "        ax.tick_params(which = 'both', labelsize=12)\n",
    "        ax.legend(loc = 1)\n",
    "    \n",
    "        majorFmt = dates.DateFormatter('%H:%M')  \n",
    "        ax.xaxis.set_major_formatter(majorFmt)\n",
    "        plt.setp(ax.xaxis.get_majorticklabels(), rotation=0, fontsize = 12, horizontalalignment = 'center')\n",
    "    \n",
    "    if save:\n",
    "        fig.savefig('%s/%s_%s_%s.%s' % (DIR_WRITE, 'time_XYZ_high_pass', rec[0][9:-4], \n",
    "            rec[1], filetype), dpi = dpi, format = filetype, bbox_inches='tight', pad_inches=0.1);\n",
    "\n",
    "    if not show:\n",
    "        plt.close()"
   ]
  },
  {
   "cell_type": "code",
   "execution_count": null,
   "metadata": {},
   "outputs": [],
   "source": [
    "accel_time_plot_high_pass(('default__393.txt', 'AL000628'), save = True)"
   ]
  },
  {
   "cell_type": "code",
   "execution_count": null,
   "metadata": {},
   "outputs": [],
   "source": [
    "def accel_time_plot_high_pass_all(recs, dpi = 200, filetype = 'jpg', show = False, save = True):\n",
    "    \n",
    "    color = ['red', 'blue', 'green']\n",
    "    i = 0\n",
    "    \n",
    "    for rec in recs:\n",
    "    \n",
    "        fig, ax = plt.subplots(3,1, figsize = (12, 9))\n",
    "        fig.subplots_adjust(left=None, bottom=0, right=None, top=None, wspace=0, hspace=None)\n",
    "        for axis, ax, col in zip(['X', 'Y', 'Z'], ax, color):\n",
    "            accelero_ventilated_high_pass[rec][[axis]].plot(ax = ax, color = col, sharex=True, \n",
    "                use_index=True, fontsize= 12, x_compat = True)\n",
    "            ax.grid(True)\n",
    "            ax.set_ylabel('m/sec$^2$', size = 12)\n",
    "            ax.set_ylim(-7,7)\n",
    "            ax.set_xlabel('Time', size  = 12)\n",
    "            ax.tick_params(which = 'both', labelsize=12)\n",
    "            ax.legend(loc = 1)\n",
    "            \n",
    "            majorFmt = dates.DateFormatter('%H:%M')  \n",
    "            ax.xaxis.set_major_formatter(majorFmt)\n",
    "            plt.setp(ax.xaxis.get_majorticklabels(), rotation=0, fontsize = 12, horizontalalignment = 'center')\n",
    "            \n",
    "        i+=1\n",
    "        if i != 0 and i % 10 == 0:\n",
    "            print(datetime.now(), 'Created %s graphs' %i)\n",
    "\n",
    "        if save:\n",
    "            fig.savefig('%s/%s/%s_%s_%s.%s' % (DIR_WRITE_2, 'time_XYZ', 'time_XYZ_high_pass', rec[0][9:-4],\n",
    "                rec[1], filetype), dpi = dpi, format = filetype,  bbox_inches='tight', pad_inches=0.1);\n",
    "\n",
    "        if not show:\n",
    "            plt.close()"
   ]
  },
  {
   "cell_type": "raw",
   "metadata": {},
   "source": [
    "%%time\n",
    "accel_time_plot_high_pass_all(sorted(accelero_ventilated.keys(), key = lambda x: int(x[0][9:-4])),)"
   ]
  },
  {
   "cell_type": "markdown",
   "metadata": {},
   "source": [
    "### D. Unaggregated acceleration data (X, Y, Z) and unaggregated ventilator data"
   ]
  },
  {
   "cell_type": "code",
   "execution_count": null,
   "metadata": {},
   "outputs": [],
   "source": [
    "# Images will be exported in this subfolder\n",
    "if not os.path.isdir(os.path.join(DIR_WRITE_2, 'accel_vent_plots_unaggregated')):\n",
    "    os.makedirs(os.path.join(DIR_WRITE_2, 'accel_vent_plots_unaggregated'))"
   ]
  },
  {
   "cell_type": "code",
   "execution_count": null,
   "metadata": {},
   "outputs": [],
   "source": [
    "def accel_vent_plot_unaggregated(recs, dpi = 200, filetype = 'jpg', show = True, save = False):\n",
    "\n",
    "    pars = ['X', 'Y', 'Z', 'VTemand_kg', 'RR', 'MV_kg', 'PIP', 'FiO2_set'] \n",
    "    ylabels = ['m/sec$^2$', 'm/sec$^2$', 'm/sec$^2$', 'mL/kg', '1/min', 'L/kg/min', 'cmH$_2$O', '%']\n",
    "    legends = ['X', 'Y', 'Z', 'VTemand', 'RR', 'MV', 'PIP', 'FiO$_2$']\n",
    "    ylimits = [(-6, 6), (-6, 6), (-6, 6), (0, 12), (0, 80), (0, 0.5), (0, 40), (0, 100)]\n",
    "    color = ['black', 'black', 'black', 'blue', 'green', 'purple', 'red', 'blue']\n",
    "    \n",
    "    j = 0\n",
    "    \n",
    "    for rec in recs:\n",
    "        \n",
    "        if 'RR' not in data_pars_combined[rec].columns:\n",
    "            continue\n",
    "        \n",
    "        else:\n",
    "    \n",
    "            fig, axes = plt.subplots(len(pars), 1, figsize = (12, len(pars) * 3))\n",
    "            fig.subplots_adjust(left=None, bottom=0, right=None, top=None, wspace=0, hspace=None)\n",
    "\n",
    "            for i, par in enumerate(pars):\n",
    "                if i <=2:                     \n",
    "                    accelero_ventilated[rec][par].plot(ax = axes[i], sharex = True, color = color[i], \n",
    "                    alpha = 0.7, linewidth = 1, ylim = ylimits[i], x_compat = True)\n",
    "        \n",
    "                else:\n",
    "                    data_pars_combined[rec][par].plot(ax = axes[i], linewidth = 2, \n",
    "                    sharex = True, color = color[i], fontsize= 12, ylim = ylimits[i], x_compat = True)\n",
    "         \n",
    "                majorFmt = dates.DateFormatter('%H:%M')  \n",
    "                axes[i].xaxis.set_major_formatter(majorFmt)\n",
    "                plt.setp(axes[i].xaxis.get_majorticklabels(), rotation=0, fontsize = 12, \n",
    "                         horizontalalignment = 'center')\n",
    "\n",
    "                axes[i].set_xlabel('Time', size = 12, color = 'black')\n",
    "                axes[i].set_ylabel(ylabels[i], size = 12, color = 'black')\n",
    "                axes[i].set_title('',  size = 12, color = 'black')\n",
    "                axes[i].legend([legends[i]], fontsize = 12)\n",
    "                axes[i].grid(True, linestyle='-', linewidth=0.5, color = 'gray')\n",
    "\n",
    "            if save:\n",
    "                fig.savefig('%s/%s_%s.%s' % (DIR_WRITE, rec[1], \n",
    "                '_'.join(pars), filetype), dpi = dpi,  format = filetype, bbox_inches= 'tight', pad_inches=0.1)\n",
    "        \n",
    "            if not show:\n",
    "                plt.close()\n",
    "            \n",
    "            j+=1\n",
    "            if j % 10 == 0:\n",
    "                print(datetime.now(), 'Created %s graphs' %j)"
   ]
  },
  {
   "cell_type": "code",
   "execution_count": null,
   "metadata": {
    "scrolled": false
   },
   "outputs": [],
   "source": [
    "accel_vent_plot_unaggregated([('default__393.txt', 'AL000628')], save = True)"
   ]
  },
  {
   "cell_type": "code",
   "execution_count": null,
   "metadata": {},
   "outputs": [],
   "source": [
    "def accel_vent_plot_unaggregated_no_RR(recs, dpi = 200, filetype = 'jpg', show = True, save = False):\n",
    "\n",
    "    pars = ['X', 'Y', 'Z', 'VTemand_kg', 'MV_kg', 'PIP', 'FiO2_set'] \n",
    "    ylabels = ['m/sec$^2$', 'm/sec$^2$', 'm/sec$^2$', 'mL/kg', 'L/kg/min', 'cmH$_2$O', '%']\n",
    "    legends = ['X', 'Y', 'Z', 'VTemand', 'MV', 'PIP', 'FiO$_2$']\n",
    "    ylimits = [(-6, 6), (-6, 6), (-6, 6), (0, 12), (0, 0.5), (0, 40), (0, 100)]\n",
    "    color = ['black', 'black', 'black', 'blue', 'purple', 'red', 'blue']\n",
    "    \n",
    "    j = 0\n",
    "    \n",
    "    for rec in recs:\n",
    "        \n",
    "        fig, axes = plt.subplots(len(pars), 1, figsize = (12, len(pars) * 3))\n",
    "        fig.subplots_adjust(left=None, bottom=0, right=None, top=None, wspace=0, hspace=None)\n",
    "\n",
    "        for i, par in enumerate(pars):\n",
    "            if i <=2:                     \n",
    "                accelero_ventilated[rec][par].plot(ax = axes[i], sharex = True, color = color[i], \n",
    "                alpha = 0.7, linewidth = 1, ylim = ylimits[i], x_compat = True)\n",
    "        \n",
    "            else:\n",
    "                data_pars_combined[rec][par].plot(ax = axes[i], linewidth = 2, \n",
    "                sharex = True, color = color[i], fontsize= 12, ylim = ylimits[i], x_compat = True)\n",
    "         \n",
    "            majorFmt = dates.DateFormatter('%H:%M')  \n",
    "            axes[i].xaxis.set_major_formatter(majorFmt)\n",
    "            plt.setp(axes[i].xaxis.get_majorticklabels(), rotation=0, fontsize = 12, \n",
    "                horizontalalignment = 'center')\n",
    "\n",
    "            axes[i].set_xlabel('Time', size = 12, color = 'black')\n",
    "            axes[i].set_ylabel(ylabels[i], size = 12, color = 'black')\n",
    "            axes[i].set_title('',  size = 12, color = 'black')\n",
    "            axes[i].legend([legends[i]], fontsize = 12)\n",
    "            axes[i].grid(True, linestyle='-', linewidth=0.5, color = 'gray')\n",
    "\n",
    "        if save:\n",
    "            fig.savefig('%s/%s_%s.%s' % (DIR_WRITE, rec[1], \n",
    "            '_'.join(pars), filetype), dpi = dpi,  format = filetype, bbox_inches= 'tight', pad_inches=0.1)\n",
    "        \n",
    "        if not show:\n",
    "            plt.close()\n",
    "            \n",
    "        j+=1\n",
    "        if j % 10 == 0:\n",
    "            print(datetime.now(), 'Created %s graphs' %j)"
   ]
  },
  {
   "cell_type": "code",
   "execution_count": null,
   "metadata": {},
   "outputs": [],
   "source": [
    "accel_vent_plot_unaggregated_no_RR([('default__393.txt', 'AL000628')])"
   ]
  },
  {
   "cell_type": "code",
   "execution_count": null,
   "metadata": {},
   "outputs": [],
   "source": [
    "def accel_vent_plot_unaggregated_no_RR_all(recs, dpi = 200, filetype = 'jpg', show = False, save = True):\n",
    "\n",
    "    pars = ['X', 'Y', 'Z', 'VTemand_kg', 'MV_kg', 'PIP', 'FiO2_set'] \n",
    "    ylabels = ['m/sec$^2$', 'm/sec$^2$', 'm/sec$^2$', 'mL/kg', 'L/kg/min', 'cmH$_2$O', '%']\n",
    "    legends = ['X', 'Y', 'Z', 'VTemand', 'MV', 'PIP', 'FiO$_2$']\n",
    "    ylimits = [(-6, 6), (-6, 6), (-6, 6), (0, 12), (0, 0.5), (0, 40), (0, 100)]\n",
    "    color = ['black', 'black', 'black', 'blue', 'purple', 'red', 'blue']\n",
    "    \n",
    "    j = 0\n",
    "    \n",
    "    for rec in recs:\n",
    "        \n",
    "        fig, axes = plt.subplots(len(pars), 1, figsize = (12, len(pars) * 3))\n",
    "        fig.subplots_adjust(left=None, bottom=0, right=None, top=None, wspace=0, hspace=None)\n",
    "\n",
    "        for i, par in enumerate(pars):\n",
    "            if i <=2:                     \n",
    "                accelero_ventilated[rec][par].plot(ax = axes[i], sharex = True, color = color[i], \n",
    "                alpha = 0.7, linewidth = 1, ylim = ylimits[i], x_compat = True)\n",
    "        \n",
    "            else:\n",
    "                data_pars_combined[rec][par].plot(ax = axes[i], linewidth = 2, \n",
    "                sharex = True, color = color[i], fontsize= 12, ylim = ylimits[i], x_compat = True)\n",
    "         \n",
    "            majorFmt = dates.DateFormatter('%H:%M')  \n",
    "            axes[i].xaxis.set_major_formatter(majorFmt)\n",
    "            plt.setp(axes[i].xaxis.get_majorticklabels(), rotation=0, fontsize = 12, \n",
    "                horizontalalignment = 'center')\n",
    "\n",
    "            axes[i].set_xlabel('Time', size = 12, color = 'black')\n",
    "            axes[i].set_ylabel(ylabels[i], size = 12, color = 'black')\n",
    "            axes[i].set_title('',  size = 12, color = 'black')\n",
    "            axes[i].legend([legends[i]], fontsize = 12)\n",
    "            axes[i].grid(True, linestyle='-', linewidth=0.5, color = 'gray')\n",
    "\n",
    "        if save:\n",
    "            fig.savefig('%s/%s/%s_%s.%s' % (DIR_WRITE_2, 'accel_vent_plots_unaggregated', rec[1], \n",
    "            '_'.join(pars), filetype), dpi = dpi,  format = filetype, bbox_inches= 'tight', pad_inches=0.1)\n",
    "        \n",
    "        if not show:\n",
    "            plt.close()\n",
    "            \n",
    "        j+=1\n",
    "        if j % 10 == 0:\n",
    "            print(datetime.now(), 'Created %s graphs' %j)"
   ]
  },
  {
   "cell_type": "raw",
   "metadata": {},
   "source": [
    "%%time\n",
    "\n",
    "accel_vent_plot_unaggregated_no_RR_all(sorted(accelero_ventilated.keys(), key = lambda x: int(x[0][9:-4])),)"
   ]
  },
  {
   "cell_type": "markdown",
   "metadata": {},
   "source": [
    "# Figures for the paper"
   ]
  },
  {
   "cell_type": "markdown",
   "metadata": {},
   "source": [
    "### Supplementary Figure 2"
   ]
  },
  {
   "cell_type": "code",
   "execution_count": null,
   "metadata": {},
   "outputs": [],
   "source": [
    "rec = 'default__393.txt', 'AL000628'\n",
    "dpi = 300\n",
    "filetype = 'jpg'\n",
    "majorFmt = dates.DateFormatter('%H:%M')  \n",
    "\n",
    "pars = ['X', 'Y', 'Z', 'VTemand_kg', 'RR', 'MV_kg', 'PIP', 'FiO2_set'] \n",
    "ylabels = ['m/sec$^2$', 'm/sec$^2$', 'm/sec$^2$', 'mL/kg', '1/min', 'L/kg/min', 'cmH$_2$O', '%']\n",
    "legends = ['X', 'Y', 'Z', 'VTemand', 'RR', 'MV', 'PIP', 'FiO$_2$']\n",
    "ylimits = [(-6, 6), (-6, 6), (-6, 6), (0, 12), (0, 80), (0, 0.5), (0, 40), (0, 100)]\n",
    "color = ['black', 'black', 'black', 'blue', 'green', 'purple', 'red', 'blue']\n",
    "    \n",
    "fig, axes = plt.subplots(len(pars), 1, figsize = (9, len(pars) * 3))\n",
    "fig.subplots_adjust(left=None, bottom=0, right=None, top=None, wspace=0, hspace=None)\n",
    "\n",
    "for i, par in enumerate(pars):\n",
    "    if i <=2:                     \n",
    "        accelero_ventilated[rec][par].plot(ax = axes[i], sharex = True, color = color[i], \n",
    "            alpha = 0.7, linewidth = 1, ylim = ylimits[i], x_compat = True)\n",
    "        \n",
    "    else:\n",
    "        data_pars_combined[rec][par].plot(ax = axes[i], linewidth = 2, \n",
    "        sharex = True, color = color[i], fontsize= 12, ylim = ylimits[i], x_compat = True)\n",
    "         \n",
    "  \n",
    "    axes[i].xaxis.set_major_formatter(majorFmt)\n",
    "    plt.setp(axes[i].xaxis.get_majorticklabels(), rotation=0, fontsize = 12, horizontalalignment = 'center')\n",
    "    axes[i].set_xlabel('Time', size = 12, color = 'black')\n",
    "    axes[i].set_ylabel(ylabels[i], size = 12, color = 'black')\n",
    "    axes[i].set_title('',  size = 12, color = 'black')\n",
    "    axes[i].legend([legends[i]], fontsize = 12)\n",
    "    axes[i].grid(True, linestyle='-', linewidth=0.5, color = 'gray')\n",
    "\n",
    "    fig.savefig('%s/%s.%s' % (DIR_WRITE, 'Supplementary_Figure_2', filetype), \n",
    "        dpi = dpi,  format = filetype, bbox_inches= 'tight', pad_inches=0.1)\n",
    "        "
   ]
  },
  {
   "cell_type": "markdown",
   "metadata": {},
   "source": [
    "### Supplementary Figure 4"
   ]
  },
  {
   "cell_type": "code",
   "execution_count": null,
   "metadata": {},
   "outputs": [],
   "source": [
    "rec = 'default__393.txt', 'AL000628'\n",
    "dpi = 300\n",
    "filetype = 'pdf'\n",
    "majorFmt = dates.DateFormatter('%H:%M')  \n",
    "\n",
    "pars = ['X', 'Y', 'Z',] \n",
    "ylabels = ['m/sec$^2$', 'm/sec$^2$', 'm/sec$^2$']\n",
    "legends = ['X', 'Y', 'Z',]\n",
    "    \n",
    "fig, axes = plt.subplots(len(pars), 2, figsize = (18, len(pars) * 3))\n",
    "fig.subplots_adjust(left=None, bottom=0, right=None, top=None, wspace=None, hspace=None)\n",
    "\n",
    "for i, par in enumerate(pars):\n",
    "    accelero_ventilated_low_pass[rec][par].plot(ax = axes[i,0], sharex = True, color = 'black', \n",
    "        alpha = 0.7, linewidth = 1, ylim = [-6, 6], x_compat = True)\n",
    "   \n",
    "    axes[i,0].xaxis.set_major_formatter(majorFmt)\n",
    "    plt.setp(axes[i,0].xaxis.get_majorticklabels(), rotation=0, fontsize = 12, horizontalalignment = 'center')\n",
    "    axes[i,0].set_xlabel('Time', size = 12, color = 'black')\n",
    "    axes[i,0].set_ylabel(ylabels[i], size = 12, color = 'black')\n",
    "    axes[i,0].set_title('',  size = 12, color = 'black')\n",
    "    axes[i,0].legend([legends[i]], fontsize = 12)\n",
    "    axes[i,0].grid(True, linestyle='-', linewidth=0.5, color = 'gray')\n",
    " \n",
    "for i, par in enumerate(pars):\n",
    "    accelero_ventilated_high_pass[rec][par].plot(ax = axes[i,1], sharex = True, color = 'black', \n",
    "        alpha = 0.7, linewidth = 1, ylim = [-6, 6], x_compat = True)\n",
    "   \n",
    "    axes[i,1].xaxis.set_major_formatter(majorFmt)\n",
    "    plt.setp(axes[i,1].xaxis.get_majorticklabels(), rotation=0, fontsize = 12, horizontalalignment = 'center')\n",
    "    axes[i,1].set_xlabel('Time', size = 12, color = 'black')\n",
    "    axes[i,1].set_ylabel(ylabels[i], size = 12, color = 'black')\n",
    "    axes[i,1].set_title('',  size = 12, color = 'black')\n",
    "    axes[i,1].legend([legends[i]], fontsize = 12)\n",
    "    axes[i,1].grid(True, linestyle='-', linewidth=0.5, color = 'gray')\n",
    "\n",
    "    fig.text(0.1, 0.97, 'A', fontsize = 16); fig.text(0.52, 0.97, 'B', fontsize = 16)\n",
    "    \n",
    "    fig.savefig('%s/%s.%s' % (DIR_WRITE, 'Supplementary_Figure_3', filetype), \n",
    "        dpi = dpi,  format = filetype, bbox_inches= 'tight', pad_inches=0.1)\n",
    "\n"
   ]
  },
  {
   "cell_type": "code",
   "execution_count": null,
   "metadata": {},
   "outputs": [],
   "source": []
  }
 ],
 "metadata": {
  "anaconda-cloud": {},
  "kernelspec": {
   "display_name": "Python 3",
   "language": "python",
   "name": "python3"
  },
  "language_info": {
   "codemirror_mode": {
    "name": "ipython",
    "version": 3
   },
   "file_extension": ".py",
   "mimetype": "text/x-python",
   "name": "python",
   "nbconvert_exporter": "python",
   "pygments_lexer": "ipython3",
   "version": "3.7.9"
  }
 },
 "nbformat": 4,
 "nbformat_minor": 2
}
